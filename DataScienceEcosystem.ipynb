{
 "cells": [
  {
   "cell_type": "markdown",
   "id": "8ff641b5",
   "metadata": {},
   "source": [
    "# Data Science Tools and Ecosystem"
   ]
  },
  {
   "cell_type": "markdown",
   "id": "76e1edbb",
   "metadata": {},
   "source": [
    "## In this notebook, Data Science Tools and Ecosystem are summarized."
   ]
  },
  {
   "cell_type": "markdown",
   "id": "edcaf2aa",
   "metadata": {},
   "source": [
    "## Some of the popular languages that Data Scientists use are:\n",
    "1. Python\n",
    "2. R \n",
    "3. Julia"
   ]
  },
  {
   "cell_type": "markdown",
   "id": "bbcc3295",
   "metadata": {},
   "source": [
    "## Some of the commonly used libraries used by Data Scientists include:\n",
    "1. Numpy\n",
    "2. Pandas\n",
    "3. Matplotlib\n"
   ]
  },
  {
   "cell_type": "markdown",
   "id": "d1ca2281",
   "metadata": {},
   "source": [
    "|Data science tools| Python|R|Julia|\n",
    "---------------------------------------------------"
   ]
  },
  {
   "cell_type": "markdown",
   "id": "d9ac0ec3",
   "metadata": {},
   "source": [
    "### Below are a few examples of evaluating arithmetic expressions in Python."
   ]
  },
  {
   "cell_type": "code",
   "execution_count": 3,
   "id": "f0667995",
   "metadata": {},
   "outputs": [
    {
     "name": "stdout",
     "output_type": "stream",
     "text": [
      "17\n"
     ]
    }
   ],
   "source": [
    "x=3\n",
    "y=4\n",
    "z=5\n",
    "Results =(x*y)+z\n",
    "print(Results)"
   ]
  },
  {
   "cell_type": "code",
   "execution_count": 7,
   "id": "5052e11a",
   "metadata": {},
   "outputs": [
    {
     "name": "stdout",
     "output_type": "stream",
     "text": [
      " Enter the Minutes:200\n",
      " Converted hours are  3.3333333333333335\n"
     ]
    }
   ],
   "source": [
    "Minutes=input(\" Enter the Minutes:\")\n",
    "Minutes=int(Minutes)\n",
    "Hours=Minutes/60\n",
    "print(\" Converted hours are \", Hours)"
   ]
  },
  {
   "cell_type": "markdown",
   "id": "c3e8ae92",
   "metadata": {},
   "source": [
    "Rahul Patil\n",
    "1. Graduate \n",
    "2. Age 30\n",
    "3. Working "
   ]
  },
  {
   "cell_type": "code",
   "execution_count": null,
   "id": "ffbe3937",
   "metadata": {},
   "outputs": [],
   "source": []
  }
 ],
 "metadata": {
  "kernelspec": {
   "display_name": "Python 3 (ipykernel)",
   "language": "python",
   "name": "python3"
  },
  "language_info": {
   "codemirror_mode": {
    "name": "ipython",
    "version": 3
   },
   "file_extension": ".py",
   "mimetype": "text/x-python",
   "name": "python",
   "nbconvert_exporter": "python",
   "pygments_lexer": "ipython3",
   "version": "3.7.1"
  }
 },
 "nbformat": 4,
 "nbformat_minor": 5
}
